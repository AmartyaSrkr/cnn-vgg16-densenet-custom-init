{
 "cells": [
  {
   "cell_type": "code",
   "execution_count": 1,
   "id": "a35cf39f-6cf3-42ba-b5fb-d53203062393",
   "metadata": {},
   "outputs": [],
   "source": [
    "import torch \n",
    "import torch.nn as nn \n",
    "import torch.optim as optim \n",
    "import torch.nn.functional as F \n"
   ]
  },
  {
   "cell_type": "code",
   "execution_count": 2,
   "id": "a8623b99-3d03-455a-a01f-e03ce2d7f6b9",
   "metadata": {},
   "outputs": [],
   "source": [
    "class CustomCNN(nn.Module):\n",
    "    def __init__(self, in_channel=1, num_classes=10):  # grayscale: 1 (in_channel)\n",
    "        super(CustomCNN,self).__init__()\n",
    "        self.convolution1 = nn.Conv2d(in_channels=1, out_channels=16, kernel_size=3, padding=1)\n",
    "        self.convolution2 = nn.Conv2d(16,32,kernel_size=3,padding=1)\n",
    "        self.fully_conn1 = nn.Linear(32*7*7, 128)   # Assumption: img_dim: 28x28 (standard)\n",
    "        self.fully_conn2 = nn.Linear(128,num_classes)\n",
    "\n",
    "    def forward(self, x):\n",
    "        x = F.relu(self.convolution1(x))\n",
    "        x = F.max_pool2d(x,2)\n",
    "        x = F.relu(self.convolution2(x)) \n",
    "        x = F.max_pool2d(x,2) \n",
    "        x = F.view(x.size(0),-1) \n",
    "        x = F.relu(self.fully_conn1(x)) \n",
    "        x = self.fully_conn2(x) \n",
    "        return x"
   ]
  },
  {
   "cell_type": "code",
   "execution_count": 3,
   "id": "eac3289d-d45c-4825-b969-fcc0bc7502a8",
   "metadata": {},
   "outputs": [],
   "source": [
    "def _normal_weights(w):\n",
    "    if isinstance(w, nn.Conv2d) or isinstance(w,nn.Linear):\n",
    "        nn.init.normal_(w.weight, mean=0.0, std=1.0)\n",
    "        if w.bias is not None:\n",
    "            nn.init.constant_(w.bias,0) "
   ]
  },
  {
   "cell_type": "code",
   "execution_count": 4,
   "id": "d8f47536-9421-4d37-a539-66b016ba9aa4",
   "metadata": {},
   "outputs": [
    {
     "data": {
      "text/plain": [
       "CustomCNN(\n",
       "  (convolution1): Conv2d(1, 16, kernel_size=(3, 3), stride=(1, 1), padding=(1, 1))\n",
       "  (convolution2): Conv2d(16, 32, kernel_size=(3, 3), stride=(1, 1), padding=(1, 1))\n",
       "  (fully_conn1): Linear(in_features=1568, out_features=128, bias=True)\n",
       "  (fully_conn2): Linear(in_features=128, out_features=10, bias=True)\n",
       ")"
      ]
     },
     "execution_count": 4,
     "metadata": {},
     "output_type": "execute_result"
    }
   ],
   "source": [
    "\n",
    "model = CustomCNN()\n",
    "\n",
    "model.apply(_normal_weights)"
   ]
  },
  {
   "cell_type": "code",
   "execution_count": 5,
   "id": "52966168-4777-4d70-8811-29a9bf41f621",
   "metadata": {},
   "outputs": [
    {
     "name": "stdout",
     "output_type": "stream",
     "text": [
      "tensor(0.0788, grad_fn=<MeanBackward0>) tensor(1.0611, grad_fn=<StdBackward0>)\n"
     ]
    }
   ],
   "source": [
    "print(model.convolution1.weight.mean(), model.convolution1.weight.std()) "
   ]
  },
  {
   "cell_type": "code",
   "execution_count": 6,
   "id": "a7478562-2388-4816-994f-283f1de71966",
   "metadata": {},
   "outputs": [
    {
     "name": "stdout",
     "output_type": "stream",
     "text": [
      "Weights of convplution 1:\n",
      " tensor([ 1.2457, -0.7043,  0.5459, -0.9097,  1.4759, -1.4047,  0.6211,  1.0741,\n",
      "        -0.5830, -0.1025], grad_fn=<SliceBackward0>)\n",
      "Bias of convolution 1:\n",
      " tensor([0., 0., 0., 0., 0., 0., 0., 0., 0., 0.], grad_fn=<SliceBackward0>)\n"
     ]
    }
   ],
   "source": [
    "print(\"Weights of convplution 1:\\n\",model.convolution1.weight.view(-1)[:10])\n",
    "print(\"Bias of convolution 1:\\n\",model.convolution1.bias.view(-1)[:10]) "
   ]
  },
  {
   "cell_type": "code",
   "execution_count": 7,
   "id": "ddc1951d-1a6f-47b5-98a8-f58a1185d015",
   "metadata": {
    "scrolled": true
   },
   "outputs": [
    {
     "name": "stdout",
     "output_type": "stream",
     "text": [
      "Weights of convplution 2:\n",
      " tensor([ 0.2568, -0.9365,  0.3769, -0.0768, -0.1548, -1.0791,  0.4776, -0.2012,\n",
      "         0.5727, -1.0997], grad_fn=<SliceBackward0>)\n",
      "Bias of convolution 2:\n",
      " tensor([0., 0., 0., 0., 0., 0., 0., 0., 0., 0.], grad_fn=<SliceBackward0>)\n"
     ]
    }
   ],
   "source": [
    "print(\"Weights of convplution 2:\\n\",model.convolution2.weight.view(-1)[:10])\n",
    "print(\"Bias of convolution 2:\\n\",model.convolution2.bias.view(-1)[:10]) "
   ]
  },
  {
   "cell_type": "code",
   "execution_count": 8,
   "id": "b2d5deea-44e9-42da-b5a3-1bb1aa81e611",
   "metadata": {},
   "outputs": [],
   "source": [
    "pass"
   ]
  },
  {
   "cell_type": "code",
   "execution_count": 4,
   "id": "b1869b7c-f6f6-49d8-86b3-fb2e420e68f6",
   "metadata": {},
   "outputs": [],
   "source": [
    "import torch \n",
    "import torch.nn as nn "
   ]
  },
  {
   "cell_type": "markdown",
   "id": "7ec87252-b9cb-49c6-a1d9-ac30c9b3811e",
   "metadata": {},
   "source": [
    "### Implementation of VGG16 Architecture using custom normal weight initialization "
   ]
  },
  {
   "cell_type": "code",
   "execution_count": 5,
   "id": "a496d02e-e2d0-43ab-91f7-164f3104ee33",
   "metadata": {},
   "outputs": [
    {
     "name": "stdout",
     "output_type": "stream",
     "text": [
      "==================================================\n",
      "VGG16 Architecture Test\n",
      "==================================================\n",
      "\n",
      "VGG16 Model Architecture:\n",
      "VGG16(\n",
      "  (features): Sequential(\n",
      "    (0): Conv2d(3, 64, kernel_size=(3, 3), stride=(1, 1), padding=(1, 1))\n",
      "    (1): ReLU(inplace=True)\n",
      "    (2): Conv2d(64, 64, kernel_size=(3, 3), stride=(1, 1), padding=(1, 1))\n",
      "    (3): ReLU(inplace=True)\n",
      "    (4): MaxPool2d(kernel_size=2, stride=2, padding=0, dilation=1, ceil_mode=False)\n",
      "    (5): Conv2d(64, 128, kernel_size=(3, 3), stride=(1, 1), padding=(1, 1))\n",
      "    (6): ReLU(inplace=True)\n",
      "    (7): Conv2d(128, 128, kernel_size=(3, 3), stride=(1, 1), padding=(1, 1))\n",
      "    (8): ReLU(inplace=True)\n",
      "    (9): MaxPool2d(kernel_size=2, stride=2, padding=0, dilation=1, ceil_mode=False)\n",
      "    (10): Conv2d(128, 256, kernel_size=(3, 3), stride=(1, 1), padding=(1, 1))\n",
      "    (11): ReLU(inplace=True)\n",
      "    (12): Conv2d(256, 256, kernel_size=(3, 3), stride=(1, 1), padding=(1, 1))\n",
      "    (13): ReLU(inplace=True)\n",
      "    (14): Conv2d(256, 256, kernel_size=(3, 3), stride=(1, 1), padding=(1, 1))\n",
      "    (15): ReLU(inplace=True)\n",
      "    (16): MaxPool2d(kernel_size=2, stride=2, padding=0, dilation=1, ceil_mode=False)\n",
      "    (17): Conv2d(256, 512, kernel_size=(3, 3), stride=(1, 1), padding=(1, 1))\n",
      "    (18): ReLU(inplace=True)\n",
      "    (19): Conv2d(512, 512, kernel_size=(3, 3), stride=(1, 1), padding=(1, 1))\n",
      "    (20): ReLU(inplace=True)\n",
      "    (21): Conv2d(512, 512, kernel_size=(3, 3), stride=(1, 1), padding=(1, 1))\n",
      "    (22): ReLU(inplace=True)\n",
      "    (23): MaxPool2d(kernel_size=2, stride=2, padding=0, dilation=1, ceil_mode=False)\n",
      "    (24): Conv2d(512, 512, kernel_size=(3, 3), stride=(1, 1), padding=(1, 1))\n",
      "    (25): ReLU(inplace=True)\n",
      "    (26): Conv2d(512, 512, kernel_size=(3, 3), stride=(1, 1), padding=(1, 1))\n",
      "    (27): ReLU(inplace=True)\n",
      "    (28): Conv2d(512, 512, kernel_size=(3, 3), stride=(1, 1), padding=(1, 1))\n",
      "    (29): ReLU(inplace=True)\n",
      "    (30): MaxPool2d(kernel_size=2, stride=2, padding=0, dilation=1, ceil_mode=False)\n",
      "  )\n",
      "  (avgpool): AdaptiveAvgPool2d(output_size=(7, 7))\n",
      "  (classifier): Sequential(\n",
      "    (0): Linear(in_features=25088, out_features=4096, bias=True)\n",
      "    (1): ReLU(inplace=True)\n",
      "    (2): Dropout(p=0.5, inplace=False)\n",
      "    (3): Linear(in_features=4096, out_features=4096, bias=True)\n",
      "    (4): ReLU(inplace=True)\n",
      "    (5): Dropout(p=0.5, inplace=False)\n",
      "    (6): Linear(in_features=4096, out_features=1000, bias=True)\n",
      "  )\n",
      ")\n"
     ]
    }
   ],
   "source": [
    "class VGG16(nn.Module):\n",
    "    def __init__(self, num_classes=1000, dropout=0.5):\n",
    "        super(VGG16,self).__init__()\n",
    "        self.features = nn.Sequential(\n",
    "        # Block 1: 64 filters \n",
    "            nn.Conv2d(3,64,kernel_size=3,padding=1),\n",
    "            nn.ReLU(inplace=True),\n",
    "            nn.Conv2d(64,64,kernel_size=3,padding=1),\n",
    "            nn.ReLU(inplace=True),\n",
    "            nn.MaxPool2d(kernel_size=2,stride=2),\n",
    "\n",
    "        # Block 2: 128 filters \n",
    "            nn.Conv2d(64,128,kernel_size=3,padding=1),\n",
    "            nn.ReLU(inplace=True),\n",
    "            nn.Conv2d(128,128,kernel_size=3,padding=1),\n",
    "            nn.ReLU(inplace=True),\n",
    "            nn.MaxPool2d(kernel_size=2,stride=2),\n",
    "\n",
    "        # Block 3: 256 filters\n",
    "            nn.Conv2d(128, 256, kernel_size=3, padding=1), \n",
    "            nn.ReLU(inplace=True),\n",
    "            nn.Conv2d(256, 256, kernel_size=3, padding=1), \n",
    "            nn.ReLU(inplace=True),\n",
    "            nn.Conv2d(256, 256, kernel_size=3, padding=1),\n",
    "            nn.ReLU(inplace=True),\n",
    "            nn.MaxPool2d(kernel_size=2, stride=2),   \n",
    "            \n",
    "        # Block 4: 512 filters\n",
    "            nn.Conv2d(256, 512, kernel_size=3, padding=1),\n",
    "            nn.ReLU(inplace=True),\n",
    "            nn.Conv2d(512, 512, kernel_size=3, padding=1), \n",
    "            nn.ReLU(inplace=True),\n",
    "            nn.Conv2d(512, 512, kernel_size=3, padding=1), \n",
    "            nn.ReLU(inplace=True),\n",
    "            nn.MaxPool2d(kernel_size=2, stride=2),  \n",
    "\n",
    "        # Block 5: 512 filters \n",
    "             nn.Conv2d(512, 512, kernel_size=3, padding=1), \n",
    "            nn.ReLU(inplace=True),\n",
    "            nn.Conv2d(512, 512, kernel_size=3, padding=1), \n",
    "            nn.ReLU(inplace=True),\n",
    "            nn.Conv2d(512, 512, kernel_size=3, padding=1), \n",
    "            nn.ReLU(inplace=True),\n",
    "            nn.MaxPool2d(kernel_size=2, stride=2), \n",
    "\n",
    "        )\n",
    "        self.avgpool = nn.AdaptiveAvgPool2d((7,7))\n",
    "        self.classifier = nn.Sequential(\n",
    "            # First FC layer\n",
    "            nn.Linear(512*7*7, 4096),\n",
    "            nn.ReLU(True),\n",
    "            nn.Dropout(dropout),\n",
    "\n",
    "            # Second FC layer \n",
    "            nn.Linear(4096,4096),\n",
    "            nn.ReLU(True),\n",
    "            nn.Dropout(dropout),\n",
    "\n",
    "            # Classification layer \n",
    "            nn.Linear(4096,num_classes) \n",
    "        )\n",
    "        self.initialize_weights()\n",
    "        def forward(self, x):\n",
    "            x = self.features(x)\n",
    "            x = self.avgpool(x)\n",
    "            x = torch.flatten(x, 1)\n",
    "            x = self.classifier(x)\n",
    "            return x\n",
    "\n",
    "    def initialize_weights(self):\n",
    "        for m in self.modules():\n",
    "            if isinstance(m, nn.Conv2d) or isinstance(m, nn.Linear):\n",
    "                with torch.no_grad():\n",
    "                    m.weight.normal_(0, 1)\n",
    "                    min_val = m.weight.min()\n",
    "                    max_val = m.weight.max()\n",
    "                    m.weight.data = (m.weight - min_val) / (max_val - min_val)\n",
    "                if m.bias is not None:\n",
    "                    nn.init.constant_(m.bias, 0.1)\n",
    "\n",
    "def create_vgg16(num_classes=1000, pretrained=False):\n",
    "    model = VGG16(num_classes=num_classes)\n",
    "    return model\n",
    "\n",
    "if __name__ == \"__main__\":\n",
    "    print(\"=\" * 50)\n",
    "    print(\"VGG16 Architecture Test\")\n",
    "    print(\"=\" * 50)\n",
    "    model = create_vgg16(num_classes=1000)\n",
    "    print(\"\\nVGG16 Model Architecture:\")\n",
    "    print(model)"
   ]
  },
  {
   "cell_type": "code",
   "execution_count": 6,
   "id": "80768857-1fdb-4b05-9f4f-53c573118c21",
   "metadata": {},
   "outputs": [
    {
     "name": "stdout",
     "output_type": "stream",
     "text": [
      "First Conv2d Layer Weights (flattened):\n",
      "tensor([0.4210, 0.5411, 0.5408, 0.5490, 0.4543, 0.8152, 0.3289, 0.4788, 0.4554,\n",
      "        0.5310, 0.7891, 0.3671, 0.5218, 0.5192, 0.5168, 0.3257, 0.3718, 0.6717,\n",
      "        0.9036, 0.5286], grad_fn=<SliceBackward0>)\n"
     ]
    }
   ],
   "source": [
    "first_convolution = model.features[0]\n",
    "print(\"First Conv2d Layer Weights (flattened):\") \n",
    "print(first_convolution.weight.view(-1)[:20]) "
   ]
  },
  {
   "cell_type": "markdown",
   "id": "1a260927-956d-428a-9aa5-a3c95c311aa5",
   "metadata": {},
   "source": [
    "### Implementation of DenseNet Architecture using custom normal weight initialization "
   ]
  },
  {
   "cell_type": "code",
   "execution_count": 14,
   "id": "76ec0b4b-c7f3-4bdc-bd8e-e3cce04dffa9",
   "metadata": {},
   "outputs": [
    {
     "name": "stdout",
     "output_type": "stream",
     "text": [
      "==================================================\n",
      "DenseNet(\n",
      "  (conv1): Conv2d(3, 24, kernel_size=(3, 3), stride=(1, 1), padding=(1, 1))\n",
      "  (block1): DenseBlock(\n",
      "    (block): Sequential(\n",
      "      (0): DenseLayer(\n",
      "        (bn): BatchNorm2d(24, eps=1e-05, momentum=0.1, affine=True, track_running_stats=True)\n",
      "        (relu): ReLU(inplace=True)\n",
      "        (conv): Conv2d(24, 12, kernel_size=(3, 3), stride=(1, 1), padding=(1, 1), bias=False)\n",
      "      )\n",
      "      (1): DenseLayer(\n",
      "        (bn): BatchNorm2d(36, eps=1e-05, momentum=0.1, affine=True, track_running_stats=True)\n",
      "        (relu): ReLU(inplace=True)\n",
      "        (conv): Conv2d(36, 12, kernel_size=(3, 3), stride=(1, 1), padding=(1, 1), bias=False)\n",
      "      )\n",
      "      (2): DenseLayer(\n",
      "        (bn): BatchNorm2d(48, eps=1e-05, momentum=0.1, affine=True, track_running_stats=True)\n",
      "        (relu): ReLU(inplace=True)\n",
      "        (conv): Conv2d(48, 12, kernel_size=(3, 3), stride=(1, 1), padding=(1, 1), bias=False)\n",
      "      )\n",
      "    )\n",
      "  )\n",
      "  (trans1): TransitionLayer(\n",
      "    (bn): BatchNorm2d(60, eps=1e-05, momentum=0.1, affine=True, track_running_stats=True)\n",
      "    (conv): Conv2d(60, 64, kernel_size=(1, 1), stride=(1, 1), bias=False)\n",
      "    (pool): AvgPool2d(kernel_size=2, stride=2, padding=0)\n",
      "  )\n",
      "  (pool): AdaptiveAvgPool2d(output_size=(1, 1))\n",
      "  (fc): Linear(in_features=64, out_features=10, bias=True)\n",
      ")\n",
      "==================================================\n",
      "\n",
      " First Convolution Layer (conv) weights (first 10):\n",
      "tensor([-0.1606, -0.0194, -0.0970, -0.0418,  0.0444,  0.1632, -0.0338,  0.1181,\n",
      "         0.1213,  0.0750], grad_fn=<SliceBackward0>)\n"
     ]
    }
   ],
   "source": [
    "class DenseLayer(nn.Module):\n",
    "    def __init__(self, in_channels, growth_rate):\n",
    "        super(DenseLayer, self).__init__()\n",
    "        self.bn = nn.BatchNorm2d(in_channels)\n",
    "        self.relu = nn.ReLU(inplace=True)\n",
    "        self.conv = nn.Conv2d(in_channels, growth_rate, kernel_size=3, padding=1, bias=False)\n",
    "\n",
    "    def forward(self, x):\n",
    "        out = self.conv(self.relu(self.bn(x)))\n",
    "        return torch.cat([x, out], 1)  \n",
    "\n",
    "class DenseBlock(nn.Module):\n",
    "    def __init__(self, num_layers, in_channels, growth_rate):\n",
    "        super(DenseBlock, self).__init__()\n",
    "        layers = []\n",
    "        for i in range(num_layers):\n",
    "            layers.append(DenseLayer(in_channels + i * growth_rate, growth_rate))\n",
    "        self.block = nn.Sequential(*layers)\n",
    "\n",
    "    def forward(self, x):\n",
    "        return self.block(x)\n",
    "\n",
    "class TransitionLayer(nn.Module):\n",
    "    def __init__(self, in_channels, out_channels):\n",
    "        super(TransitionLayer, self).__init__()\n",
    "        self.bn = nn.BatchNorm2d(in_channels)\n",
    "        self.conv = nn.Conv2d(in_channels, out_channels, kernel_size=1, bias=False)\n",
    "        self.pool = nn.AvgPool2d(kernel_size=2, stride=2)\n",
    "\n",
    "    def forward(self, x):\n",
    "        x = self.conv(self.bn(x))\n",
    "        x = self.pool(x)\n",
    "        return x\n",
    "\n",
    "class DenseNet(nn.Module):\n",
    "    def __init__(self, in_channels=3, num_classes=10, growth_rate=12):\n",
    "        super(DenseNet, self).__init__()\n",
    "        self.conv1 = nn.Conv2d(in_channels, 24, kernel_size=3, padding=1)\n",
    "        \n",
    "        self.block1 = DenseBlock(num_layers=3, in_channels=24, growth_rate=growth_rate)\n",
    "        self.trans1 = TransitionLayer(in_channels=24 + 3 * growth_rate, out_channels=64)\n",
    "        \n",
    "        self.pool = nn.AdaptiveAvgPool2d((1, 1))\n",
    "        self.fc = nn.Linear(64, num_classes)\n",
    "\n",
    "    def forward(self, x):\n",
    "        x = self.conv1(x)                          # Initial conv\n",
    "        x = self.block1(x)                         # Dense block\n",
    "        x = self.trans1(x)                         # Transition layer\n",
    "        x = self.pool(x)                           # Global avg pool\n",
    "        x = torch.flatten(x, 1)\n",
    "        x = self.fc(x)\n",
    "        return x\n",
    "\n",
    "    def initialize_weights(self):\n",
    "        for m in self.modules():\n",
    "            if isinstance(m, (nn.Conv2d, nn.Linear)):\n",
    "                with torch.no_grad():\n",
    "                    m.weight.normal_(0, 1)\n",
    "                    min_val = m.weight.min()\n",
    "                    max_val = m.weight.max()\n",
    "                    m.weight.data = (m.weight - min_val) / (max_val - min_val)\n",
    "                if m.bias is not None:\n",
    "                    nn.init.constant_(m.bias, 0.1)\n",
    "        \n",
    "if __name__ == \"__main__\":\n",
    "    print(\"=\"*50)\n",
    "    model = DenseNet()\n",
    "    print(model)\n",
    "    print(\"=\"*50)\n",
    "    print(\"\\n First Convolution Layer (conv) weights (first 10):\") \n",
    "    #first_convolution = model.features[0]\n",
    "    print(model.conv1.weight.view(-1)[:10]) \n"
   ]
  },
  {
   "cell_type": "code",
   "execution_count": null,
   "id": "d3904c01-2630-471e-bb19-e6f8a75b86ff",
   "metadata": {},
   "outputs": [],
   "source": []
  }
 ],
 "metadata": {
  "kernelspec": {
   "display_name": "Python 3 (ipykernel)",
   "language": "python",
   "name": "python3"
  },
  "language_info": {
   "codemirror_mode": {
    "name": "ipython",
    "version": 3
   },
   "file_extension": ".py",
   "mimetype": "text/x-python",
   "name": "python",
   "nbconvert_exporter": "python",
   "pygments_lexer": "ipython3",
   "version": "3.12.6"
  }
 },
 "nbformat": 4,
 "nbformat_minor": 5
}
